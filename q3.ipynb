{
 "cells": [
  {
   "cell_type": "code",
   "execution_count": null,
   "id": "6a761c88",
   "metadata": {},
   "outputs": [],
   "source": []
  },
  {
   "cell_type": "markdown",
   "id": "3f6b5c19",
   "metadata": {},
   "source": [
    "# a. Identify and count missing values in a dataframe.\n"
   ]
  },
  {
   "cell_type": "code",
   "execution_count": 12,
   "id": "2f9a4320",
   "metadata": {},
   "outputs": [
    {
     "name": "stdout",
     "output_type": "stream",
     "text": [
      "column 0 has  2 Nan\n",
      "column 1 has  7 Nan\n",
      "column 2 has  3 Nan\n",
      "column 3 has  6 Nan\n",
      "column 4 has  5 Nan\n"
     ]
    }
   ],
   "source": [
    "import numpy as np\n",
    "import pandas as pd\n",
    "from numpy import random\n",
    "\n",
    "c = 5\n",
    "r = 50\n",
    "\n",
    "arr = np.random.randint(100,size=(r,c))\n",
    "\n",
    "temp_arr_1d =  arr.reshape(c*r)\n",
    "\n",
    "temp_random_indexes = np.random.randint(r*c-1, size=int(temp_arr_1d.size*0.1))\n",
    "\n",
    "df = pd.DataFrame(temp_arr_1d)\n",
    "\n",
    "for i in temp_random_indexes:\n",
    "    df.loc[i] = np.nan\n",
    "\n",
    "df = pd.DataFrame(df.to_numpy().reshape(r,c))\n",
    "column_del = []\n",
    "\n",
    "\n",
    "for i in range(c):\n",
    "    print(f\"column {i} has \",50-df.loc[:,i].count(),\"Nan\")\n",
    "    if(50 -df.loc[:,i].count()) >=5:\n",
    "        column_del.append(i)\n",
    "        "
   ]
  },
  {
   "cell_type": "markdown",
   "id": "9d5739c3",
   "metadata": {},
   "source": [
    "#  b. Drop the column having more than 5 null values.\n"
   ]
  },
  {
   "cell_type": "code",
   "execution_count": 13,
   "id": "d338ae0e",
   "metadata": {},
   "outputs": [
    {
     "name": "stdout",
     "output_type": "stream",
     "text": [
      "columns to be removed  [1, 3, 4]\n",
      "       0     2\n",
      "0   80.0  59.0\n",
      "1   14.0  62.0\n",
      "2    NaN  38.0\n",
      "3    1.0  88.0\n",
      "4    1.0   4.0\n",
      "5   32.0  53.0\n",
      "6   82.0   8.0\n",
      "7   24.0  60.0\n",
      "8   89.0   8.0\n",
      "9   46.0  71.0\n",
      "10  28.0  19.0\n",
      "11  28.0  32.0\n",
      "12  49.0   1.0\n",
      "13  69.0  37.0\n",
      "14  56.0   NaN\n",
      "15   9.0  75.0\n",
      "16  96.0  25.0\n",
      "17   5.0  55.0\n",
      "18   9.0  88.0\n",
      "19  57.0  54.0\n",
      "20  55.0  21.0\n",
      "21  42.0  26.0\n",
      "22  49.0  85.0\n",
      "23   2.0  50.0\n",
      "24  85.0  87.0\n",
      "25   NaN   NaN\n",
      "26  48.0  60.0\n",
      "27  87.0  54.0\n",
      "28  97.0  35.0\n",
      "29  61.0  15.0\n",
      "30  64.0  86.0\n",
      "31  87.0  39.0\n",
      "32   9.0  14.0\n",
      "33  82.0  16.0\n",
      "34  30.0  67.0\n",
      "35  66.0  96.0\n",
      "36  70.0  63.0\n",
      "37  35.0  37.0\n",
      "38  27.0  49.0\n",
      "39   8.0  30.0\n",
      "40  72.0  16.0\n",
      "41  87.0  78.0\n",
      "42  66.0  67.0\n",
      "43  97.0   NaN\n",
      "44   0.0  43.0\n",
      "45  98.0  18.0\n",
      "46  61.0   4.0\n",
      "47  85.0  33.0\n",
      "48  12.0  69.0\n",
      "49  64.0  90.0\n"
     ]
    }
   ],
   "source": [
    "print(\"columns to be removed \",column_del)\n",
    "\n",
    "col_deleted =0\n",
    "for i in column_del:\n",
    "    df = df.drop(df.columns[i-col_deleted],axis=1)\n",
    "    col_deleted +=1\n",
    "print(df)    "
   ]
  },
  {
   "cell_type": "markdown",
   "id": "e5618a48",
   "metadata": {},
   "source": [
    "# c. Identify the row label having maximum of the sum of all values in a row and drop that row"
   ]
  },
  {
   "cell_type": "code",
   "execution_count": 14,
   "id": "c58b35aa",
   "metadata": {},
   "outputs": [
    {
     "name": "stdout",
     "output_type": "stream",
     "text": [
      "index to be removed  24\n",
      "       0     2\n",
      "0   80.0  59.0\n",
      "1   14.0  62.0\n",
      "2    NaN  38.0\n",
      "3    1.0  88.0\n",
      "4    1.0   4.0\n",
      "5   32.0  53.0\n",
      "6   82.0   8.0\n",
      "7   24.0  60.0\n",
      "8   89.0   8.0\n",
      "9   46.0  71.0\n",
      "10  28.0  19.0\n",
      "11  28.0  32.0\n",
      "12  49.0   1.0\n",
      "13  69.0  37.0\n",
      "14  56.0   NaN\n",
      "15   9.0  75.0\n",
      "16  96.0  25.0\n",
      "17   5.0  55.0\n",
      "18   9.0  88.0\n",
      "19  57.0  54.0\n",
      "20  55.0  21.0\n",
      "21  42.0  26.0\n",
      "22  49.0  85.0\n",
      "23   2.0  50.0\n",
      "25   NaN   NaN\n",
      "26  48.0  60.0\n",
      "27  87.0  54.0\n",
      "28  97.0  35.0\n",
      "29  61.0  15.0\n",
      "30  64.0  86.0\n",
      "31  87.0  39.0\n",
      "32   9.0  14.0\n",
      "33  82.0  16.0\n",
      "34  30.0  67.0\n",
      "35  66.0  96.0\n",
      "36  70.0  63.0\n",
      "37  35.0  37.0\n",
      "38  27.0  49.0\n",
      "39   8.0  30.0\n",
      "40  72.0  16.0\n",
      "41  87.0  78.0\n",
      "42  66.0  67.0\n",
      "43  97.0   NaN\n",
      "44   0.0  43.0\n",
      "45  98.0  18.0\n",
      "46  61.0   4.0\n",
      "47  85.0  33.0\n",
      "48  12.0  69.0\n",
      "49  64.0  90.0\n"
     ]
    }
   ],
   "source": [
    "max_index = 0\n",
    "max_value = 0\n",
    "\n",
    "\n",
    "for i in range(r):\n",
    "    if df.loc[i].sum() > max_value:\n",
    "        max_value = df.loc[i].sum()\n",
    "        max_index = i\n",
    "\n",
    "print(\"index to be removed \",max_index)\n",
    "df = df.drop(max_index)\n",
    "print(df)"
   ]
  },
  {
   "cell_type": "markdown",
   "id": "256044c0",
   "metadata": {},
   "source": [
    "#  d. Sort the dataframe on the basis of the first column"
   ]
  },
  {
   "cell_type": "code",
   "execution_count": 15,
   "id": "7a437554",
   "metadata": {},
   "outputs": [
    {
     "name": "stdout",
     "output_type": "stream",
     "text": [
      "       0     2\n",
      "44   0.0  43.0\n",
      "3    1.0  88.0\n",
      "4    1.0   4.0\n",
      "23   2.0  50.0\n",
      "17   5.0  55.0\n",
      "39   8.0  30.0\n",
      "32   9.0  14.0\n",
      "18   9.0  88.0\n",
      "15   9.0  75.0\n",
      "48  12.0  69.0\n",
      "1   14.0  62.0\n",
      "7   24.0  60.0\n",
      "38  27.0  49.0\n",
      "10  28.0  19.0\n",
      "11  28.0  32.0\n",
      "34  30.0  67.0\n",
      "5   32.0  53.0\n",
      "37  35.0  37.0\n",
      "21  42.0  26.0\n",
      "9   46.0  71.0\n",
      "26  48.0  60.0\n",
      "22  49.0  85.0\n",
      "12  49.0   1.0\n",
      "20  55.0  21.0\n",
      "14  56.0   NaN\n",
      "19  57.0  54.0\n",
      "29  61.0  15.0\n",
      "46  61.0   4.0\n",
      "49  64.0  90.0\n",
      "30  64.0  86.0\n",
      "42  66.0  67.0\n",
      "35  66.0  96.0\n",
      "13  69.0  37.0\n",
      "36  70.0  63.0\n",
      "40  72.0  16.0\n",
      "0   80.0  59.0\n",
      "33  82.0  16.0\n",
      "6   82.0   8.0\n",
      "47  85.0  33.0\n",
      "31  87.0  39.0\n",
      "41  87.0  78.0\n",
      "27  87.0  54.0\n",
      "8   89.0   8.0\n",
      "16  96.0  25.0\n",
      "28  97.0  35.0\n",
      "43  97.0   NaN\n",
      "45  98.0  18.0\n",
      "2    NaN  38.0\n",
      "25   NaN   NaN\n"
     ]
    }
   ],
   "source": [
    "\n",
    "df = df.sort_values(by=df.columns[0])\n",
    "print(df)"
   ]
  },
  {
   "cell_type": "markdown",
   "id": "e35ce005",
   "metadata": {},
   "source": [
    "#  e. Remove all duplicates from the first column."
   ]
  },
  {
   "cell_type": "code",
   "execution_count": 16,
   "id": "aa493cfb",
   "metadata": {},
   "outputs": [
    {
     "name": "stdout",
     "output_type": "stream",
     "text": [
      "       0     2\n",
      "44   0.0  43.0\n",
      "3    1.0  88.0\n",
      "4    1.0   4.0\n",
      "23   2.0  50.0\n",
      "17   5.0  55.0\n",
      "39   8.0  30.0\n",
      "32   9.0  14.0\n",
      "18   9.0  88.0\n",
      "15   9.0  75.0\n",
      "48  12.0  69.0\n",
      "1   14.0  62.0\n",
      "7   24.0  60.0\n",
      "38  27.0  49.0\n",
      "10  28.0  19.0\n",
      "11  28.0  32.0\n",
      "34  30.0  67.0\n",
      "5   32.0  53.0\n",
      "37  35.0  37.0\n",
      "21  42.0  26.0\n",
      "9   46.0  71.0\n",
      "26  48.0  60.0\n",
      "22  49.0  85.0\n",
      "12  49.0   1.0\n",
      "20  55.0  21.0\n",
      "14  56.0   NaN\n",
      "19  57.0  54.0\n",
      "29  61.0  15.0\n",
      "46  61.0   4.0\n",
      "49  64.0  90.0\n",
      "30  64.0  86.0\n",
      "42  66.0  67.0\n",
      "35  66.0  96.0\n",
      "13  69.0  37.0\n",
      "36  70.0  63.0\n",
      "40  72.0  16.0\n",
      "0   80.0  59.0\n",
      "33  82.0  16.0\n",
      "6   82.0   8.0\n",
      "47  85.0  33.0\n",
      "31  87.0  39.0\n",
      "41  87.0  78.0\n",
      "27  87.0  54.0\n",
      "8   89.0   8.0\n",
      "16  96.0  25.0\n",
      "28  97.0  35.0\n",
      "43  97.0   NaN\n",
      "45  98.0  18.0\n",
      "2    NaN  38.0\n",
      "25   NaN   NaN\n"
     ]
    }
   ],
   "source": [
    "df = df.drop_duplicates() \n",
    "\n",
    "\n",
    "print(df)"
   ]
  },
  {
   "cell_type": "markdown",
   "id": "3411f021",
   "metadata": {},
   "source": [
    "# f. Find the correlation between first and second column and covariance between second and third column "
   ]
  },
  {
   "cell_type": "code",
   "execution_count": 17,
   "id": "52b4422d",
   "metadata": {},
   "outputs": [
    {
     "name": "stdout",
     "output_type": "stream",
     "text": [
      "[[ 1.         -0.19002087]\n",
      " [-0.19002087  1.        ]]\n",
      "covarience---> [[ 981.39191919 -161.88383838]\n",
      " [-161.88383838  739.54040404]]\n"
     ]
    }
   ],
   "source": [
    "#first removing the nan values bcoz it don't works with cov , or corrcoef\n",
    "df = df.dropna()\n",
    "\n",
    "corr = np.corrcoef(df.iloc[:,0], df.iloc[:,1] )\n",
    "print(corr)\n",
    "\n",
    "covv = np.cov(df.iloc[:,0], df.iloc[:,1])\n",
    "\n",
    "print(\"covarience--->\",covv)"
   ]
  },
  {
   "cell_type": "code",
   "execution_count": 18,
   "id": "558c95f1",
   "metadata": {},
   "outputs": [
    {
     "data": {
      "image/png": "[encoded data removed]",
      "text/plain": [
       "<Figure size 1500x1500 with 2 Axes>"
      ]
     },
     "metadata": {},
     "output_type": "display_data"
    }
   ],
   "source": [
    "import seaborn as sns\n",
    "import matplotlib.pyplot as plt\n",
    "\n",
    "plt.figure(figsize=(3,3) , dpi=500)\n",
    "sns.heatmap(corr,annot=True,fmt=\".2f\",linewidth=.5)\n",
    "plt.show()"
   ]
  },
  {
   "cell_type": "code",
   "execution_count": null,
   "id": "b7d22c2f",
   "metadata": {},
   "outputs": [],
   "source": []
  },
  {
   "cell_type": "markdown",
   "id": "db35d9de",
   "metadata": {},
   "source": [
    "#  g. Detect the outliers and remove the rows having outliers."
   ]
  },
  {
   "cell_type": "code",
   "execution_count": 19,
   "id": "76135b1a",
   "metadata": {},
   "outputs": [
    {
     "name": "stdout",
     "output_type": "stream",
     "text": [
      "[ 0.  1.  1.  2.  5.  8.  9.  9.  9. 12. 14. 24. 27. 28. 28. 30. 32. 35.\n",
      " 42. 46. 48. 49. 49. 55. 57. 61. 61. 64. 64. 66. 66. 69. 70. 72. 80. 82.\n",
      " 82. 85. 87. 87. 87. 89. 96. 97. 98.]\n",
      "total --> 45\n",
      "q1 -->  24.0\n",
      "q2 -->  49.0\n",
      "q3 -->  72.0\n",
      "iqr  -->  48.0\n",
      "lower bound -48.0\n",
      "upper_bound 144.0\n",
      "[]\n"
     ]
    }
   ],
   "source": [
    "data = df.iloc[:,0]\n",
    "data_arr  = data.to_numpy()\n",
    "\n",
    "q1 ,q2, q3  = np.percentile(sorted(data_arr) , [25,50,75])\n",
    "print(data_arr)\n",
    "print(\"total -->\",data_arr.size)\n",
    "print(\"q1 --> \",q1)\n",
    "print(\"q2 --> \",q2)\n",
    "print(\"q3 --> \",q3)\n",
    "\n",
    "iqr = q3 - q1\n",
    "\n",
    "print(\"iqr  --> \",iqr)\n",
    "\n",
    "lower_bound = q1 - (1.5 * iqr)\n",
    "upper_bound = q3 + (1.5 * iqr)\n",
    "\n",
    "print(\"lower bound\",lower_bound)\n",
    "print(\"upper_bound\",upper_bound)\n",
    "outliers = [i for i in data_arr if i<= lower_bound or i >=upper_bound]\n",
    "print(outliers)\n",
    "\n",
    "\n"
   ]
  },
  {
   "cell_type": "markdown",
   "id": "5ff21abb",
   "metadata": {},
   "source": [
    "#  h. Discretize second column and create 5 bins"
   ]
  },
  {
   "cell_type": "code",
   "execution_count": 20,
   "id": "eff9de5d",
   "metadata": {},
   "outputs": [
    {
     "name": "stdout",
     "output_type": "stream",
     "text": [
      "0      (39.0, 58.0]\n",
      "1      (77.0, 96.0]\n",
      "2     (0.905, 20.0]\n",
      "3      (39.0, 58.0]\n",
      "4      (39.0, 58.0]\n",
      "5      (20.0, 39.0]\n",
      "6     (0.905, 20.0]\n",
      "7      (77.0, 96.0]\n",
      "8      (58.0, 77.0]\n",
      "9      (58.0, 77.0]\n",
      "10     (58.0, 77.0]\n",
      "11     (58.0, 77.0]\n",
      "12     (39.0, 58.0]\n",
      "13    (0.905, 20.0]\n",
      "14     (20.0, 39.0]\n",
      "15     (58.0, 77.0]\n",
      "16     (39.0, 58.0]\n",
      "17     (20.0, 39.0]\n",
      "18     (20.0, 39.0]\n",
      "19     (58.0, 77.0]\n",
      "20     (58.0, 77.0]\n",
      "21     (77.0, 96.0]\n",
      "22    (0.905, 20.0]\n",
      "23     (20.0, 39.0]\n",
      "24     (39.0, 58.0]\n",
      "25    (0.905, 20.0]\n",
      "26    (0.905, 20.0]\n",
      "27     (77.0, 96.0]\n",
      "28     (77.0, 96.0]\n",
      "29     (58.0, 77.0]\n",
      "30     (77.0, 96.0]\n",
      "31     (20.0, 39.0]\n",
      "32     (58.0, 77.0]\n",
      "33    (0.905, 20.0]\n",
      "34     (58.0, 77.0]\n",
      "35    (0.905, 20.0]\n",
      "36    (0.905, 20.0]\n",
      "37     (20.0, 39.0]\n",
      "38     (20.0, 39.0]\n",
      "39     (77.0, 96.0]\n",
      "40     (39.0, 58.0]\n",
      "41    (0.905, 20.0]\n",
      "42     (20.0, 39.0]\n",
      "43     (20.0, 39.0]\n",
      "44    (0.905, 20.0]\n",
      "Name: 0, dtype: category\n",
      "Categories (5, interval[float64, right]): [(0.905, 20.0] < (20.0, 39.0] < (39.0, 58.0] < (58.0, 77.0] < (77.0, 96.0]]\n"
     ]
    }
   ],
   "source": [
    "_arr = df.iloc[:,1]\n",
    "ss = pd.DataFrame(_arr.to_numpy())\n",
    "\n",
    "binn = pd.cut(ss.iloc[:,0],bins=5)\n",
    "print(binn)\n"
   ]
  },
  {
   "cell_type": "code",
   "execution_count": null,
   "id": "7307cc14",
   "metadata": {},
   "outputs": [],
   "source": []
  }
 ],
 "metadata": {
  "kernelspec": {
   "display_name": "Python 3 (ipykernel)",
   "language": "python",
   "name": "python3"
  },
  "language_info": {
   "codemirror_mode": {
    "name": "ipython",
    "version": 3
   },
   "file_extension": ".py",
   "mimetype": "text/x-python",
   "name": "python",
   "nbconvert_exporter": "python",
   "pygments_lexer": "ipython3",
   "version": "3.11.5"
  }
 },
 "nbformat": 4,
 "nbformat_minor": 5
}
