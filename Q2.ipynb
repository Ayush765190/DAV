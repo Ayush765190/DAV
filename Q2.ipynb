{
 "cells": [
  {
   "cell_type": "markdown",
   "id": "3db625ab",
   "metadata": {},
   "source": [
    "#  A. COMPUTE MEAN , STANDARD DEVIATION , AND VARIANCE OF A TWO DIMENSIONAL RANDOM INTEGER ARRAY ALONG THE SECOND AXIS."
   ]
  },
  {
   "cell_type": "code",
   "execution_count": 2,
   "id": "02b6e741",
   "metadata": {},
   "outputs": [
    {
     "name": "stdout",
     "output_type": "stream",
     "text": [
      "arr is  [[76 87 12 70 93]\n",
      " [10 87 86 25 66]]\n",
      "mean along 2nd axis is  [67.6 54.8]\n",
      "variance :  [ 837.84 1006.16]\n",
      "standard varaince  [28.94546597 31.72002522]\n"
     ]
    }
   ],
   "source": [
    "import numpy as np\n",
    "arr = np.random.randint(0,100,10)\n",
    "arr = arr.reshape(2,5)\n",
    "print(\"arr is \",arr)\n",
    "print(\"mean along 2nd axis is \", arr.mean(axis=1))\n",
    "print(\"variance : \",arr.var(axis=1))\n",
    "print(\"standard varaince \", arr.std(axis=1))"
   ]
  },
  {
   "cell_type": "markdown",
   "id": "f509a7a3",
   "metadata": {},
   "source": [
    "#  B. GET THE INDICES OF THE SORTED ELEMENTS OF A GIVEN ARRAY"
   ]
  },
  {
   "cell_type": "code",
   "execution_count": null,
   "id": "9c2c8bb2",
   "metadata": {},
   "outputs": [],
   "source": [
    "b = [56,48,22,41,78,91,24,46,8,33]\n",
    "arr = np.array(b)\n",
    "sorted_ind = np.argsort(arr)\n",
    "print(sorted_ind)"
   ]
  },
  {
   "cell_type": "markdown",
   "id": "49e97c71",
   "metadata": {},
   "source": [
    "#  C. CREATE A 2- DIMENSIONAL ARRAY OF SIZE M X N INTEGER ELEMENTS , ALSO PRINT THE SHAPE , TYPE , AND DATA TYPE OF THE ARRAY AND THAN RESHAPE IT INTO N X M ARRAY , N AND M ARE USER INPUTS GIVEN AT THE RUN TIME."
   ]
  },
  {
   "cell_type": "code",
   "execution_count": null,
   "id": "b47221eb",
   "metadata": {},
   "outputs": [],
   "source": [
    "no_row = int(input(\"enter the number of rows : \"))\n",
    "no_col = int(input(\"enter the number of cols : \"))\n",
    "arr = np.random.randint(0,100,no_row * no_col)\n",
    "arr = arr.reshape(no_row,no_col)\n",
    "\n",
    "print(\"array is: \",arr)\n",
    "print(\"shape is \", arr.shape)\n",
    "print(\"data type \",arr.dtype)\n",
    "print(\"type is \", type(arr))\n",
    "print(\"\")\n",
    "print(f\"after reshape to {no_row} x {no_col} :\" , arr.reshape(no_col,no_row))"
   ]
  },
  {
   "cell_type": "markdown",
   "id": "dde5d569",
   "metadata": {},
   "source": [
    "#  D. TEST WHETHER THE ELEMENTS OF A GIVEN ARRAY ARE ZERO , NON ZERO , AND NAN ,\n",
    "RECOED THE INDICES OF THESE ELEMENTS IN THREE SEPERATE ARRAYS"
   ]
  },
  {
   "cell_type": "code",
   "execution_count": 3,
   "id": "6f6277ab",
   "metadata": {},
   "outputs": [
    {
     "name": "stdout",
     "output_type": "stream",
     "text": [
      "nan :  [4, 6]\n",
      "zero :  [5]\n",
      "not zero :  [0, 1, 2, 3, 7]\n"
     ]
    }
   ],
   "source": [
    "arr = [12.,34.,56.,78, np.nan,0, -np.nan ,90]\n",
    "arr = np.array(arr)\n",
    "\n",
    "\n",
    "temp = 0\n",
    "arr_nan =[]\n",
    "arr_zero = []\n",
    "arr_nzero = []\n",
    "\n",
    "for i in arr:\n",
    "    if np.isnan(i)==True:\n",
    "        arr_nan.append(temp)\n",
    "    elif(i==0):\n",
    "        arr_zero.append(temp)\n",
    "    else:\n",
    "        arr_nzero.append(temp)\n",
    "        \n",
    "    temp +=1 \n",
    "print(\"nan : \",arr_nan)   \n",
    "print(\"zero : \",arr_zero)\n",
    "print(\"not zero : \",arr_nzero)\n",
    "\n"
   ]
  },
  {
   "cell_type": "code",
   "execution_count": null,
   "id": "deb2bda3",
   "metadata": {},
   "outputs": [],
   "source": []
  }
 ],
 "metadata": {
  "kernelspec": {
   "display_name": "Python 3 (ipykernel)",
   "language": "python",
   "name": "python3"
  },
  "language_info": {
   "codemirror_mode": {
    "name": "ipython",
    "version": 3
   },
   "file_extension": ".py",
   "mimetype": "text/x-python",
   "name": "python",
   "nbconvert_exporter": "python",
   "pygments_lexer": "ipython3",
   "version": "3.11.5"
  }
 },
 "nbformat": 4,
 "nbformat_minor": 5
}
